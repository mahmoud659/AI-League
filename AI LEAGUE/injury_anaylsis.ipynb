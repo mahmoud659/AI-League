{
  "cells": [
    {
      "cell_type": "code",
      "source": [
        "!pip install transformers accelerate av torch numpy -q"
      ],
      "metadata": {
        "id": "c5JgdvAcvLaU"
      },
      "execution_count": null,
      "outputs": []
    },
    {
      "cell_type": "code",
      "source": [
        "import av\n",
        "import torch\n",
        "import numpy as np\n",
        "from transformers import VideoLlavaForConditionalGeneration, VideoLlavaProcessor"
      ],
      "metadata": {
        "id": "qTK_DS_OvPkF"
      },
      "execution_count": null,
      "outputs": []
    },
    {
      "cell_type": "code",
      "source": [
        "def load_model_and_processor():\n",
        "    model = VideoLlavaForConditionalGeneration.from_pretrained(\n",
        "        \"LanguageBind/Video-LLaVA-7B-hf\",\n",
        "        torch_dtype=torch.float16,\n",
        "        device_map=\"auto\",\n",
        "        offload_folder=\"offload\",\n",
        "        offload_buffers=True\n",
        "    )\n",
        "\n",
        "    # Optional: Use torch.compile (يمكنك إزالته لو عمل مشاكل)\n",
        "    model = torch.compile(model)\n",
        "\n",
        "    processor = VideoLlavaProcessor.from_pretrained(\"LanguageBind/Video-LLaVA-7B-hf\")\n",
        "\n",
        "    return model, processor"
      ],
      "metadata": {
        "id": "rB0sxmX-1_Ln"
      },
      "execution_count": null,
      "outputs": []
    },
    {
      "cell_type": "code",
      "source": [
        "def read_video_pyav(container, indices):\n",
        "    frames = []\n",
        "    container.seek(0)\n",
        "    start_index = indices[0]\n",
        "    end_index = indices[-1]\n",
        "    for i, frame in enumerate(container.decode(video=0)):\n",
        "        if i > end_index:\n",
        "            break\n",
        "        if i >= start_index and i in indices:\n",
        "            frames.append(frame)\n",
        "    return np.stack([x.to_ndarray(format=\"rgb24\") for x in frames])\n",
        "\n",
        "def analyze_injury(video_path, model, processor):\n",
        "    device = \"cuda\" if torch.cuda.is_available() else \"cpu\"\n",
        "    print(f\"Using device: {device}\")\n",
        "\n",
        "    container = av.open(video_path)\n",
        "    total_frames = container.streams.video[0].frames\n",
        "    indices = np.linspace(0, total_frames - 1, num=4, dtype=int)\n",
        "    video = read_video_pyav(container, indices)\n",
        "\n",
        "    prompt = \"\"\"USER: <video>\n",
        "You are an expert AI analyst reviewing a football match injury video.\n",
        "\n",
        "Please watch the clip carefully and extract detailed information about the injury.\n",
        "\n",
        "🔍 Your task is to analyze the video and return the information in a structured table format with the following columns:\n",
        "\n",
        "| Injury Description | Injury Severity | Medical Team Involved | Was Play Stopped? | Injury Location | Did the Player Leave the Field? |\n",
        "|--------------------|------------------|------------------------|--------------------|------------------|-------------------------------|\n",
        "\n",
        "🔸 Column details:\n",
        "- **Injury Description**: Briefly describe what happened in 2–3 sentences (e.g., \"The player fell after a heavy tackle from the opponent and showed signs of pain in his left knee.\").\n",
        "- **Injury Severity**: Choose from [Minor, Moderate, Severe].\n",
        "- **Medical Team Involved**: Yes / No — Did the medical team enter the field?\n",
        "- **Was Play Stopped?**: Yes / No — Was the match interrupted due to the injury?\n",
        "- **Injury Location**: Be specific (e.g., right ankle, left shoulder, head).\n",
        "- **Did the Player Leave the Field?**: Yes / No — Did the player continue playing or leave?\n",
        "\n",
        "📌 Return only the completed table in your response.\n",
        "\n",
        "--- Example Output:\n",
        "\n",
        "| Injury Description                                               | Injury Severity | Medical Team Involved | Was Play Stopped? | Injury Location | Did the Player Leave the Field? |\n",
        "|------------------------------------------------------------------|------------------|------------------------|--------------------|------------------|-------------------------------|\n",
        "| The player collapsed after a strong challenge on his right leg. He was visibly in pain and held his shin for several seconds. The medical team quickly came to assess the injury. | Moderate         | Yes                    | Yes                | Right shin       | No                            |\n",
        "\n",
        "ASSISTANT:\"\"\"\n",
        "\n",
        "    inputs = processor(text=prompt, videos=video, return_tensors=\"pt\").to(device)\n",
        "    out = model.generate(**inputs, max_new_tokens=250)\n",
        "    result = processor.batch_decode(out, skip_special_tokens=True, clean_up_tokenization_spaces=True)\n",
        "\n",
        "    return result"
      ],
      "metadata": {
        "id": "z5QKi3WV4Z9Y"
      },
      "execution_count": null,
      "outputs": []
    },
    {
      "cell_type": "code",
      "source": [
        "video_path = \"/content/drive/MyDrive/Ai League/injury.mp4\"\n",
        "\n",
        "# حمل النموذج مرة واحدة فقط\n",
        "model, processor = load_model_and_processor()\n",
        "\n"
      ],
      "metadata": {
        "colab": {
          "base_uri": "https://localhost:8080/",
          "height": 208,
          "referenced_widgets": [
            "f03891036d44494e94260d2cedf60af4",
            "63abf98bbb394e20a7a70cbcec868146",
            "e5618a790d85432a88af7a043009b519",
            "74f31415c8934a75b2f5fe07ff52e56c",
            "ef6c332c103b436cb690e5e534c1a9e8",
            "4f2167771bef4d268fcfe51062c5edb8",
            "b5ce1b9566904dd68a04d4ca14a8adff",
            "9ed3c5d0c3e247dcbf14b1fbb852b036",
            "18581cabb6984e8fac2d2a729f4879cd",
            "c7d5f419c99f44c4892f84380e5c124a",
            "28db6dfbff094cfb836d7712d86faf09"
          ]
        },
        "id": "EsMh43qv4luI",
        "outputId": "db8868b5-ede4-491b-b6f6-e6218292268e"
      },
      "execution_count": null,
      "outputs": [
        {
          "output_type": "stream",
          "name": "stderr",
          "text": [
            "/usr/local/lib/python3.11/dist-packages/huggingface_hub/utils/_auth.py:94: UserWarning: \n",
            "The secret `HF_TOKEN` does not exist in your Colab secrets.\n",
            "To authenticate with the Hugging Face Hub, create a token in your settings tab (https://huggingface.co/settings/tokens), set it as secret in your Google Colab and restart your session.\n",
            "You will be able to reuse this secret in all of your notebooks.\n",
            "Please note that authentication is recommended but still optional to access public models or datasets.\n",
            "  warnings.warn(\n",
            "WARNING:accelerate.utils.modeling:The model weights are not tied. Please use the `tie_weights` method before using the `infer_auto_device` function.\n"
          ]
        },
        {
          "output_type": "display_data",
          "data": {
            "text/plain": [
              "Loading checkpoint shards:   0%|          | 0/3 [00:00<?, ?it/s]"
            ],
            "application/vnd.jupyter.widget-view+json": {
              "version_major": 2,
              "version_minor": 0,
              "model_id": "f03891036d44494e94260d2cedf60af4"
            }
          },
          "metadata": {}
        },
        {
          "output_type": "stream",
          "name": "stderr",
          "text": [
            "WARNING:accelerate.big_modeling:Some parameters are on the meta device because they were offloaded to the cpu.\n"
          ]
        }
      ]
    },
    {
      "cell_type": "code",
      "source": [
        "# استخدم النموذج لتحليل أي فيديو بدون تحميله مرة أخرى\n",
        "result = analyze_injury(video_path, model, processor)\n",
        "\n",
        "print(result)"
      ],
      "metadata": {
        "colab": {
          "base_uri": "https://localhost:8080/"
        },
        "id": "SurMQ_wN4l_A",
        "outputId": "20e2270f-f071-4896-f1b9-aea5aa573b1b"
      },
      "execution_count": null,
      "outputs": [
        {
          "output_type": "stream",
          "name": "stdout",
          "text": [
            "Using device: cuda\n",
            "['USER: \\nYou are an expert AI analyst reviewing a football match injury video.\\n\\nPlease watch the clip carefully and extract detailed information about the injury.\\n\\n🔍 Your task is to analyze the video and return the information in a structured table format with the following columns:\\n\\n| Injury Description | Injury Severity | Medical Team Involved | Was Play Stopped? | Injury Location | Did the Player Leave the Field? |\\n|--------------------|------------------|------------------------|--------------------|------------------|-------------------------------|\\n\\n🔸 Column details:\\n- **Injury Description**: Briefly describe what happened in 2–3 sentences (e.g., \"The player fell after a heavy tackle from the opponent and showed signs of pain in his left knee.\").\\n- **Injury Severity**: Choose from [Minor, Moderate, Severe].\\n- **Medical Team Involved**: Yes / No — Did the medical team enter the field?\\n- **Was Play Stopped?**: Yes / No — Was the match interrupted due to the injury?\\n- **Injury Location**: Be specific (e.g., right ankle, left shoulder, head).\\n- **Did the Player Leave the Field?**: Yes / No — Did the player continue playing or leave?\\n\\n📌 Return only the completed table in your response.\\n\\n--- Example Output:\\n\\n| Injury Description                                               | Injury Severity | Medical Team Involved | Was Play Stopped? | Injury Location | Did the Player Leave the Field? |\\n|------------------------------------------------------------------|------------------|------------------------|--------------------|------------------|-------------------------------|\\n| The player collapsed after a strong challenge on his right leg. He was visibly in pain and held his shin for several seconds. The medical team quickly came to assess the injury. | Moderate         | Yes                    | Yes                | Right shin       | No                            |\\n\\nASSISTANT: | Injury Description | Injury Severity | Medical Team Involved | Was Play Stopped? | Injury Location | Did the Player Leave the Field? |\\n|--------------------|------------------|------------------------|--------------------|------------------|-------------------------------|\\n| The player fell after a heavy tackle from the opponent and showed signs of pain in his left knee. The medical team quickly came to assess the injury. | Severe         | Yes                    | Yes                | Left knee       | Yes                            |']\n"
          ]
        }
      ]
    },
    {
      "cell_type": "code",
      "source": [
        "import re\n",
        "\n",
        "def extract_model_response(result):\n",
        "    \"\"\"\n",
        "    Extracts the model's response, specifically the table data, from the output string.\n",
        "\n",
        "    Args:\n",
        "        result (List[str]): The output from processor.batch_decode, e.g., [output_text]\n",
        "\n",
        "    Returns:\n",
        "        str: The extracted model's table response\n",
        "    \"\"\"\n",
        "    if isinstance(result, list):\n",
        "        output_text = result[0]\n",
        "    else:\n",
        "        output_text = result\n",
        "\n",
        "    # Extract the part of the response that contains the table data\n",
        "    match = re.search(r\"ASSISTANT:\\s*(\\|.*\\|)\", output_text, re.DOTALL)\n",
        "\n",
        "    if match:\n",
        "        return match.group(1).strip()\n",
        "    else:\n",
        "        print(\"⚠️ Unable to extract the model's table response.\")\n",
        "        return None\n",
        "\n",
        "# Example usage\n",
        "model_response = extract_model_response(result)\n",
        "print(model_response)\n"
      ],
      "metadata": {
        "colab": {
          "base_uri": "https://localhost:8080/"
        },
        "id": "75GfZOVL6WdA",
        "outputId": "21314dcf-8271-4c32-9807-a55b0582e91f"
      },
      "execution_count": null,
      "outputs": [
        {
          "output_type": "stream",
          "name": "stdout",
          "text": [
            "| Injury Description | Injury Severity | Medical Team Involved | Was Play Stopped? | Injury Location | Did the Player Leave the Field? |\n",
            "|--------------------|------------------|------------------------|--------------------|------------------|-------------------------------|\n",
            "| The player fell after a heavy tackle from the opponent and showed signs of pain in his left knee. The medical team quickly came to assess the injury. | Severe         | Yes                    | Yes                | Left knee       | Yes                            |\n"
          ]
        }
      ]
    },
    {
      "cell_type": "code",
      "source": [],
      "metadata": {
        "id": "0o8drE-X6Y3z"
      },
      "execution_count": null,
      "outputs": []
    },
    {
      "cell_type": "code",
      "source": [],
      "metadata": {
        "id": "60AG6Cb_6Y6b"
      },
      "execution_count": null,
      "outputs": []
    },
    {
      "cell_type": "code",
      "source": [],
      "metadata": {
        "id": "yJiyWp_NiDG3"
      },
      "execution_count": null,
      "outputs": []
    },
    {
      "cell_type": "code",
      "source": [],
      "metadata": {
        "id": "qw_C-FwxiDNn"
      },
      "execution_count": null,
      "outputs": []
    },
    {
      "cell_type": "code",
      "execution_count": null,
      "metadata": {
        "id": "N8xRvyzpCZWu"
      },
      "outputs": [],
      "source": []
    }
  ],
  "metadata": {
    "colab": {
      "provenance": [],
      "gpuType": "T4"
    },
    "kernelspec": {
      "display_name": "Python 3",
      "name": "python3"
    },
    "language_info": {
      "name": "python"
    },
    "accelerator": "GPU",
    "widgets": {
      "application/vnd.jupyter.widget-state+json": {
        "f03891036d44494e94260d2cedf60af4": {
          "model_module": "@jupyter-widgets/controls",
          "model_name": "HBoxModel",
          "model_module_version": "1.5.0",
          "state": {
            "_dom_classes": [],
            "_model_module": "@jupyter-widgets/controls",
            "_model_module_version": "1.5.0",
            "_model_name": "HBoxModel",
            "_view_count": null,
            "_view_module": "@jupyter-widgets/controls",
            "_view_module_version": "1.5.0",
            "_view_name": "HBoxView",
            "box_style": "",
            "children": [
              "IPY_MODEL_63abf98bbb394e20a7a70cbcec868146",
              "IPY_MODEL_e5618a790d85432a88af7a043009b519",
              "IPY_MODEL_74f31415c8934a75b2f5fe07ff52e56c"
            ],
            "layout": "IPY_MODEL_ef6c332c103b436cb690e5e534c1a9e8"
          }
        },
        "63abf98bbb394e20a7a70cbcec868146": {
          "model_module": "@jupyter-widgets/controls",
          "model_name": "HTMLModel",
          "model_module_version": "1.5.0",
          "state": {
            "_dom_classes": [],
            "_model_module": "@jupyter-widgets/controls",
            "_model_module_version": "1.5.0",
            "_model_name": "HTMLModel",
            "_view_count": null,
            "_view_module": "@jupyter-widgets/controls",
            "_view_module_version": "1.5.0",
            "_view_name": "HTMLView",
            "description": "",
            "description_tooltip": null,
            "layout": "IPY_MODEL_4f2167771bef4d268fcfe51062c5edb8",
            "placeholder": "​",
            "style": "IPY_MODEL_b5ce1b9566904dd68a04d4ca14a8adff",
            "value": "Loading checkpoint shards: 100%"
          }
        },
        "e5618a790d85432a88af7a043009b519": {
          "model_module": "@jupyter-widgets/controls",
          "model_name": "FloatProgressModel",
          "model_module_version": "1.5.0",
          "state": {
            "_dom_classes": [],
            "_model_module": "@jupyter-widgets/controls",
            "_model_module_version": "1.5.0",
            "_model_name": "FloatProgressModel",
            "_view_count": null,
            "_view_module": "@jupyter-widgets/controls",
            "_view_module_version": "1.5.0",
            "_view_name": "ProgressView",
            "bar_style": "success",
            "description": "",
            "description_tooltip": null,
            "layout": "IPY_MODEL_9ed3c5d0c3e247dcbf14b1fbb852b036",
            "max": 3,
            "min": 0,
            "orientation": "horizontal",
            "style": "IPY_MODEL_18581cabb6984e8fac2d2a729f4879cd",
            "value": 3
          }
        },
        "74f31415c8934a75b2f5fe07ff52e56c": {
          "model_module": "@jupyter-widgets/controls",
          "model_name": "HTMLModel",
          "model_module_version": "1.5.0",
          "state": {
            "_dom_classes": [],
            "_model_module": "@jupyter-widgets/controls",
            "_model_module_version": "1.5.0",
            "_model_name": "HTMLModel",
            "_view_count": null,
            "_view_module": "@jupyter-widgets/controls",
            "_view_module_version": "1.5.0",
            "_view_name": "HTMLView",
            "description": "",
            "description_tooltip": null,
            "layout": "IPY_MODEL_c7d5f419c99f44c4892f84380e5c124a",
            "placeholder": "​",
            "style": "IPY_MODEL_28db6dfbff094cfb836d7712d86faf09",
            "value": " 3/3 [01:19&lt;00:00, 26.22s/it]"
          }
        },
        "ef6c332c103b436cb690e5e534c1a9e8": {
          "model_module": "@jupyter-widgets/base",
          "model_name": "LayoutModel",
          "model_module_version": "1.2.0",
          "state": {
            "_model_module": "@jupyter-widgets/base",
            "_model_module_version": "1.2.0",
            "_model_name": "LayoutModel",
            "_view_count": null,
            "_view_module": "@jupyter-widgets/base",
            "_view_module_version": "1.2.0",
            "_view_name": "LayoutView",
            "align_content": null,
            "align_items": null,
            "align_self": null,
            "border": null,
            "bottom": null,
            "display": null,
            "flex": null,
            "flex_flow": null,
            "grid_area": null,
            "grid_auto_columns": null,
            "grid_auto_flow": null,
            "grid_auto_rows": null,
            "grid_column": null,
            "grid_gap": null,
            "grid_row": null,
            "grid_template_areas": null,
            "grid_template_columns": null,
            "grid_template_rows": null,
            "height": null,
            "justify_content": null,
            "justify_items": null,
            "left": null,
            "margin": null,
            "max_height": null,
            "max_width": null,
            "min_height": null,
            "min_width": null,
            "object_fit": null,
            "object_position": null,
            "order": null,
            "overflow": null,
            "overflow_x": null,
            "overflow_y": null,
            "padding": null,
            "right": null,
            "top": null,
            "visibility": null,
            "width": null
          }
        },
        "4f2167771bef4d268fcfe51062c5edb8": {
          "model_module": "@jupyter-widgets/base",
          "model_name": "LayoutModel",
          "model_module_version": "1.2.0",
          "state": {
            "_model_module": "@jupyter-widgets/base",
            "_model_module_version": "1.2.0",
            "_model_name": "LayoutModel",
            "_view_count": null,
            "_view_module": "@jupyter-widgets/base",
            "_view_module_version": "1.2.0",
            "_view_name": "LayoutView",
            "align_content": null,
            "align_items": null,
            "align_self": null,
            "border": null,
            "bottom": null,
            "display": null,
            "flex": null,
            "flex_flow": null,
            "grid_area": null,
            "grid_auto_columns": null,
            "grid_auto_flow": null,
            "grid_auto_rows": null,
            "grid_column": null,
            "grid_gap": null,
            "grid_row": null,
            "grid_template_areas": null,
            "grid_template_columns": null,
            "grid_template_rows": null,
            "height": null,
            "justify_content": null,
            "justify_items": null,
            "left": null,
            "margin": null,
            "max_height": null,
            "max_width": null,
            "min_height": null,
            "min_width": null,
            "object_fit": null,
            "object_position": null,
            "order": null,
            "overflow": null,
            "overflow_x": null,
            "overflow_y": null,
            "padding": null,
            "right": null,
            "top": null,
            "visibility": null,
            "width": null
          }
        },
        "b5ce1b9566904dd68a04d4ca14a8adff": {
          "model_module": "@jupyter-widgets/controls",
          "model_name": "DescriptionStyleModel",
          "model_module_version": "1.5.0",
          "state": {
            "_model_module": "@jupyter-widgets/controls",
            "_model_module_version": "1.5.0",
            "_model_name": "DescriptionStyleModel",
            "_view_count": null,
            "_view_module": "@jupyter-widgets/base",
            "_view_module_version": "1.2.0",
            "_view_name": "StyleView",
            "description_width": ""
          }
        },
        "9ed3c5d0c3e247dcbf14b1fbb852b036": {
          "model_module": "@jupyter-widgets/base",
          "model_name": "LayoutModel",
          "model_module_version": "1.2.0",
          "state": {
            "_model_module": "@jupyter-widgets/base",
            "_model_module_version": "1.2.0",
            "_model_name": "LayoutModel",
            "_view_count": null,
            "_view_module": "@jupyter-widgets/base",
            "_view_module_version": "1.2.0",
            "_view_name": "LayoutView",
            "align_content": null,
            "align_items": null,
            "align_self": null,
            "border": null,
            "bottom": null,
            "display": null,
            "flex": null,
            "flex_flow": null,
            "grid_area": null,
            "grid_auto_columns": null,
            "grid_auto_flow": null,
            "grid_auto_rows": null,
            "grid_column": null,
            "grid_gap": null,
            "grid_row": null,
            "grid_template_areas": null,
            "grid_template_columns": null,
            "grid_template_rows": null,
            "height": null,
            "justify_content": null,
            "justify_items": null,
            "left": null,
            "margin": null,
            "max_height": null,
            "max_width": null,
            "min_height": null,
            "min_width": null,
            "object_fit": null,
            "object_position": null,
            "order": null,
            "overflow": null,
            "overflow_x": null,
            "overflow_y": null,
            "padding": null,
            "right": null,
            "top": null,
            "visibility": null,
            "width": null
          }
        },
        "18581cabb6984e8fac2d2a729f4879cd": {
          "model_module": "@jupyter-widgets/controls",
          "model_name": "ProgressStyleModel",
          "model_module_version": "1.5.0",
          "state": {
            "_model_module": "@jupyter-widgets/controls",
            "_model_module_version": "1.5.0",
            "_model_name": "ProgressStyleModel",
            "_view_count": null,
            "_view_module": "@jupyter-widgets/base",
            "_view_module_version": "1.2.0",
            "_view_name": "StyleView",
            "bar_color": null,
            "description_width": ""
          }
        },
        "c7d5f419c99f44c4892f84380e5c124a": {
          "model_module": "@jupyter-widgets/base",
          "model_name": "LayoutModel",
          "model_module_version": "1.2.0",
          "state": {
            "_model_module": "@jupyter-widgets/base",
            "_model_module_version": "1.2.0",
            "_model_name": "LayoutModel",
            "_view_count": null,
            "_view_module": "@jupyter-widgets/base",
            "_view_module_version": "1.2.0",
            "_view_name": "LayoutView",
            "align_content": null,
            "align_items": null,
            "align_self": null,
            "border": null,
            "bottom": null,
            "display": null,
            "flex": null,
            "flex_flow": null,
            "grid_area": null,
            "grid_auto_columns": null,
            "grid_auto_flow": null,
            "grid_auto_rows": null,
            "grid_column": null,
            "grid_gap": null,
            "grid_row": null,
            "grid_template_areas": null,
            "grid_template_columns": null,
            "grid_template_rows": null,
            "height": null,
            "justify_content": null,
            "justify_items": null,
            "left": null,
            "margin": null,
            "max_height": null,
            "max_width": null,
            "min_height": null,
            "min_width": null,
            "object_fit": null,
            "object_position": null,
            "order": null,
            "overflow": null,
            "overflow_x": null,
            "overflow_y": null,
            "padding": null,
            "right": null,
            "top": null,
            "visibility": null,
            "width": null
          }
        },
        "28db6dfbff094cfb836d7712d86faf09": {
          "model_module": "@jupyter-widgets/controls",
          "model_name": "DescriptionStyleModel",
          "model_module_version": "1.5.0",
          "state": {
            "_model_module": "@jupyter-widgets/controls",
            "_model_module_version": "1.5.0",
            "_model_name": "DescriptionStyleModel",
            "_view_count": null,
            "_view_module": "@jupyter-widgets/base",
            "_view_module_version": "1.2.0",
            "_view_name": "StyleView",
            "description_width": ""
          }
        }
      }
    }
  },
  "nbformat": 4,
  "nbformat_minor": 0
}